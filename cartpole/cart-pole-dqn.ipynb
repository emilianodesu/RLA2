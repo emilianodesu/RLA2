{
  "cells": [
    {
      "cell_type": "markdown",
      "metadata": {
        "id": "view-in-github",
        "colab_type": "text"
      },
      "source": [
        "<a href=\"https://colab.research.google.com/github/emilianodesu/RLA2/blob/main/cartpole/cart-pole-dqn.ipynb\" target=\"_parent\"><img src=\"https://colab.research.google.com/assets/colab-badge.svg\" alt=\"Open In Colab\"/></a>"
      ]
    },
    {
      "cell_type": "markdown",
      "source": [
        "[![View on GitHub](https://img.shields.io/badge/GitHub-Repo-blue?logo=github)](https://github.com/emilianodesu/RLA2)"
      ],
      "metadata": {
        "id": "eiYscqrHPQ5z"
      },
      "id": "eiYscqrHPQ5z"
    },
    {
      "cell_type": "markdown",
      "source": [
        "## Cloning repository to execute in Google Colab"
      ],
      "metadata": {
        "id": "DWeBZy_cPUdf"
      },
      "id": "DWeBZy_cPUdf"
    },
    {
      "cell_type": "code",
      "source": [
        "import os\n",
        "def detect_colab() -> bool:\n",
        "    \"\"\"\n",
        "    Detect whether the runtime is Google Colab.\n",
        "\n",
        "    Returns:\n",
        "        bool: True if running in Google Colab; False otherwise.\n",
        "    \"\"\"\n",
        "    try:\n",
        "        import google.colab  # type: ignore\n",
        "        return True\n",
        "    except ImportError:\n",
        "        return False\n",
        "\n",
        "IN_COLAB = detect_colab()\n",
        "BASE_PATH = '/content/' if IN_COLAB else './'\n",
        "\n",
        "print(f\"IN_COLAB: {IN_COLAB}\")\n",
        "print(f\"BASE_PATH: {BASE_PATH}\")\n",
        "\n",
        "if IN_COLAB:\n",
        "    # Clone Github repo\n",
        "    if not os.path.exists(f\"{BASE_PATH}/RLA2\"):\n",
        "        !git clone https://github.com/emilianodesu/RLA2.git\n",
        "    os.chdir(f\"{BASE_PATH}/RLA2\")\n",
        "    print(f\"Current directory: {os.getcwd()}\")"
      ],
      "metadata": {
        "id": "Y_TLcwrEPU2Q",
        "outputId": "e7c41fbd-874b-4804-c233-972b05bfef71",
        "colab": {
          "base_uri": "https://localhost:8080/"
        }
      },
      "id": "Y_TLcwrEPU2Q",
      "execution_count": 7,
      "outputs": [
        {
          "output_type": "stream",
          "name": "stdout",
          "text": [
            "IN_COLAB: True\n",
            "BASE_PATH: /content/\n",
            "Current directory: /content/RLA2\n"
          ]
        }
      ]
    },
    {
      "cell_type": "markdown",
      "source": [
        "# Deep Q-Network on classic control\n",
        "\n",
        "This notebook will explore the implementation of a DQN from Stable Baselines3 on a classic-control environment.\n",
        "\n",
        "### What you will learn?\n",
        "* Using Deep Q-Network from Stable Baseline3\n",
        "* Training on cart pole environment"
      ],
      "metadata": {
        "id": "H4-pXi_zzWJu"
      },
      "id": "H4-pXi_zzWJu"
    },
    {
      "cell_type": "markdown",
      "source": [
        "## Setup\n",
        "Install necessary dependencies."
      ],
      "metadata": {
        "id": "4ibWpDWizkFx"
      },
      "id": "4ibWpDWizkFx"
    },
    {
      "cell_type": "code",
      "execution_count": 3,
      "id": "initial_id",
      "metadata": {
        "collapsed": true,
        "colab": {
          "base_uri": "https://localhost:8080/"
        },
        "id": "initial_id",
        "outputId": "8630a147-181d-4e0e-a1ce-91dd322a242d"
      },
      "outputs": [
        {
          "output_type": "stream",
          "name": "stdout",
          "text": [
            "Requirement already satisfied: gymnasium in /usr/local/lib/python3.12/dist-packages (1.2.1)\n",
            "Requirement already satisfied: numpy>=1.21.0 in /usr/local/lib/python3.12/dist-packages (from gymnasium) (2.0.2)\n",
            "Requirement already satisfied: cloudpickle>=1.2.0 in /usr/local/lib/python3.12/dist-packages (from gymnasium) (3.1.1)\n",
            "Requirement already satisfied: typing-extensions>=4.3.0 in /usr/local/lib/python3.12/dist-packages (from gymnasium) (4.15.0)\n",
            "Requirement already satisfied: farama-notifications>=0.0.1 in /usr/local/lib/python3.12/dist-packages (from gymnasium) (0.0.4)\n",
            "Requirement already satisfied: stable-baselines3[extra] in /usr/local/lib/python3.12/dist-packages (2.7.0)\n",
            "Requirement already satisfied: gymnasium<1.3.0,>=0.29.1 in /usr/local/lib/python3.12/dist-packages (from stable-baselines3[extra]) (1.2.1)\n",
            "Requirement already satisfied: numpy<3.0,>=1.20 in /usr/local/lib/python3.12/dist-packages (from stable-baselines3[extra]) (2.0.2)\n",
            "Requirement already satisfied: torch<3.0,>=2.3 in /usr/local/lib/python3.12/dist-packages (from stable-baselines3[extra]) (2.8.0+cu126)\n",
            "Requirement already satisfied: cloudpickle in /usr/local/lib/python3.12/dist-packages (from stable-baselines3[extra]) (3.1.1)\n",
            "Requirement already satisfied: pandas in /usr/local/lib/python3.12/dist-packages (from stable-baselines3[extra]) (2.2.2)\n",
            "Requirement already satisfied: matplotlib in /usr/local/lib/python3.12/dist-packages (from stable-baselines3[extra]) (3.10.0)\n",
            "Requirement already satisfied: opencv-python in /usr/local/lib/python3.12/dist-packages (from stable-baselines3[extra]) (4.12.0.88)\n",
            "Requirement already satisfied: pygame in /usr/local/lib/python3.12/dist-packages (from stable-baselines3[extra]) (2.6.1)\n",
            "Requirement already satisfied: tensorboard>=2.9.1 in /usr/local/lib/python3.12/dist-packages (from stable-baselines3[extra]) (2.19.0)\n",
            "Requirement already satisfied: psutil in /usr/local/lib/python3.12/dist-packages (from stable-baselines3[extra]) (5.9.5)\n",
            "Requirement already satisfied: tqdm in /usr/local/lib/python3.12/dist-packages (from stable-baselines3[extra]) (4.67.1)\n",
            "Requirement already satisfied: rich in /usr/local/lib/python3.12/dist-packages (from stable-baselines3[extra]) (13.9.4)\n",
            "Requirement already satisfied: ale-py>=0.9.0 in /usr/local/lib/python3.12/dist-packages (from stable-baselines3[extra]) (0.11.2)\n",
            "Requirement already satisfied: pillow in /usr/local/lib/python3.12/dist-packages (from stable-baselines3[extra]) (11.3.0)\n",
            "Requirement already satisfied: typing-extensions>=4.3.0 in /usr/local/lib/python3.12/dist-packages (from gymnasium<1.3.0,>=0.29.1->stable-baselines3[extra]) (4.15.0)\n",
            "Requirement already satisfied: farama-notifications>=0.0.1 in /usr/local/lib/python3.12/dist-packages (from gymnasium<1.3.0,>=0.29.1->stable-baselines3[extra]) (0.0.4)\n",
            "Requirement already satisfied: absl-py>=0.4 in /usr/local/lib/python3.12/dist-packages (from tensorboard>=2.9.1->stable-baselines3[extra]) (1.4.0)\n",
            "Requirement already satisfied: grpcio>=1.48.2 in /usr/local/lib/python3.12/dist-packages (from tensorboard>=2.9.1->stable-baselines3[extra]) (1.75.1)\n",
            "Requirement already satisfied: markdown>=2.6.8 in /usr/local/lib/python3.12/dist-packages (from tensorboard>=2.9.1->stable-baselines3[extra]) (3.9)\n",
            "Requirement already satisfied: packaging in /usr/local/lib/python3.12/dist-packages (from tensorboard>=2.9.1->stable-baselines3[extra]) (25.0)\n",
            "Requirement already satisfied: protobuf!=4.24.0,>=3.19.6 in /usr/local/lib/python3.12/dist-packages (from tensorboard>=2.9.1->stable-baselines3[extra]) (5.29.5)\n",
            "Requirement already satisfied: setuptools>=41.0.0 in /usr/local/lib/python3.12/dist-packages (from tensorboard>=2.9.1->stable-baselines3[extra]) (75.2.0)\n",
            "Requirement already satisfied: six>1.9 in /usr/local/lib/python3.12/dist-packages (from tensorboard>=2.9.1->stable-baselines3[extra]) (1.17.0)\n",
            "Requirement already satisfied: tensorboard-data-server<0.8.0,>=0.7.0 in /usr/local/lib/python3.12/dist-packages (from tensorboard>=2.9.1->stable-baselines3[extra]) (0.7.2)\n",
            "Requirement already satisfied: werkzeug>=1.0.1 in /usr/local/lib/python3.12/dist-packages (from tensorboard>=2.9.1->stable-baselines3[extra]) (3.1.3)\n",
            "Requirement already satisfied: filelock in /usr/local/lib/python3.12/dist-packages (from torch<3.0,>=2.3->stable-baselines3[extra]) (3.20.0)\n",
            "Requirement already satisfied: sympy>=1.13.3 in /usr/local/lib/python3.12/dist-packages (from torch<3.0,>=2.3->stable-baselines3[extra]) (1.13.3)\n",
            "Requirement already satisfied: networkx in /usr/local/lib/python3.12/dist-packages (from torch<3.0,>=2.3->stable-baselines3[extra]) (3.5)\n",
            "Requirement already satisfied: jinja2 in /usr/local/lib/python3.12/dist-packages (from torch<3.0,>=2.3->stable-baselines3[extra]) (3.1.6)\n",
            "Requirement already satisfied: fsspec in /usr/local/lib/python3.12/dist-packages (from torch<3.0,>=2.3->stable-baselines3[extra]) (2025.3.0)\n",
            "Requirement already satisfied: nvidia-cuda-nvrtc-cu12==12.6.77 in /usr/local/lib/python3.12/dist-packages (from torch<3.0,>=2.3->stable-baselines3[extra]) (12.6.77)\n",
            "Requirement already satisfied: nvidia-cuda-runtime-cu12==12.6.77 in /usr/local/lib/python3.12/dist-packages (from torch<3.0,>=2.3->stable-baselines3[extra]) (12.6.77)\n",
            "Requirement already satisfied: nvidia-cuda-cupti-cu12==12.6.80 in /usr/local/lib/python3.12/dist-packages (from torch<3.0,>=2.3->stable-baselines3[extra]) (12.6.80)\n",
            "Requirement already satisfied: nvidia-cudnn-cu12==9.10.2.21 in /usr/local/lib/python3.12/dist-packages (from torch<3.0,>=2.3->stable-baselines3[extra]) (9.10.2.21)\n",
            "Requirement already satisfied: nvidia-cublas-cu12==12.6.4.1 in /usr/local/lib/python3.12/dist-packages (from torch<3.0,>=2.3->stable-baselines3[extra]) (12.6.4.1)\n",
            "Requirement already satisfied: nvidia-cufft-cu12==11.3.0.4 in /usr/local/lib/python3.12/dist-packages (from torch<3.0,>=2.3->stable-baselines3[extra]) (11.3.0.4)\n",
            "Requirement already satisfied: nvidia-curand-cu12==10.3.7.77 in /usr/local/lib/python3.12/dist-packages (from torch<3.0,>=2.3->stable-baselines3[extra]) (10.3.7.77)\n",
            "Requirement already satisfied: nvidia-cusolver-cu12==11.7.1.2 in /usr/local/lib/python3.12/dist-packages (from torch<3.0,>=2.3->stable-baselines3[extra]) (11.7.1.2)\n",
            "Requirement already satisfied: nvidia-cusparse-cu12==12.5.4.2 in /usr/local/lib/python3.12/dist-packages (from torch<3.0,>=2.3->stable-baselines3[extra]) (12.5.4.2)\n",
            "Requirement already satisfied: nvidia-cusparselt-cu12==0.7.1 in /usr/local/lib/python3.12/dist-packages (from torch<3.0,>=2.3->stable-baselines3[extra]) (0.7.1)\n",
            "Requirement already satisfied: nvidia-nccl-cu12==2.27.3 in /usr/local/lib/python3.12/dist-packages (from torch<3.0,>=2.3->stable-baselines3[extra]) (2.27.3)\n",
            "Requirement already satisfied: nvidia-nvtx-cu12==12.6.77 in /usr/local/lib/python3.12/dist-packages (from torch<3.0,>=2.3->stable-baselines3[extra]) (12.6.77)\n",
            "Requirement already satisfied: nvidia-nvjitlink-cu12==12.6.85 in /usr/local/lib/python3.12/dist-packages (from torch<3.0,>=2.3->stable-baselines3[extra]) (12.6.85)\n",
            "Requirement already satisfied: nvidia-cufile-cu12==1.11.1.6 in /usr/local/lib/python3.12/dist-packages (from torch<3.0,>=2.3->stable-baselines3[extra]) (1.11.1.6)\n",
            "Requirement already satisfied: triton==3.4.0 in /usr/local/lib/python3.12/dist-packages (from torch<3.0,>=2.3->stable-baselines3[extra]) (3.4.0)\n",
            "Requirement already satisfied: contourpy>=1.0.1 in /usr/local/lib/python3.12/dist-packages (from matplotlib->stable-baselines3[extra]) (1.3.3)\n",
            "Requirement already satisfied: cycler>=0.10 in /usr/local/lib/python3.12/dist-packages (from matplotlib->stable-baselines3[extra]) (0.12.1)\n",
            "Requirement already satisfied: fonttools>=4.22.0 in /usr/local/lib/python3.12/dist-packages (from matplotlib->stable-baselines3[extra]) (4.60.1)\n",
            "Requirement already satisfied: kiwisolver>=1.3.1 in /usr/local/lib/python3.12/dist-packages (from matplotlib->stable-baselines3[extra]) (1.4.9)\n",
            "Requirement already satisfied: pyparsing>=2.3.1 in /usr/local/lib/python3.12/dist-packages (from matplotlib->stable-baselines3[extra]) (3.2.5)\n",
            "Requirement already satisfied: python-dateutil>=2.7 in /usr/local/lib/python3.12/dist-packages (from matplotlib->stable-baselines3[extra]) (2.9.0.post0)\n",
            "Requirement already satisfied: pytz>=2020.1 in /usr/local/lib/python3.12/dist-packages (from pandas->stable-baselines3[extra]) (2025.2)\n",
            "Requirement already satisfied: tzdata>=2022.7 in /usr/local/lib/python3.12/dist-packages (from pandas->stable-baselines3[extra]) (2025.2)\n",
            "Requirement already satisfied: markdown-it-py>=2.2.0 in /usr/local/lib/python3.12/dist-packages (from rich->stable-baselines3[extra]) (4.0.0)\n",
            "Requirement already satisfied: pygments<3.0.0,>=2.13.0 in /usr/local/lib/python3.12/dist-packages (from rich->stable-baselines3[extra]) (2.19.2)\n",
            "Requirement already satisfied: mdurl~=0.1 in /usr/local/lib/python3.12/dist-packages (from markdown-it-py>=2.2.0->rich->stable-baselines3[extra]) (0.1.2)\n",
            "Requirement already satisfied: mpmath<1.4,>=1.1.0 in /usr/local/lib/python3.12/dist-packages (from sympy>=1.13.3->torch<3.0,>=2.3->stable-baselines3[extra]) (1.3.0)\n",
            "Requirement already satisfied: MarkupSafe>=2.1.1 in /usr/local/lib/python3.12/dist-packages (from werkzeug>=1.0.1->tensorboard>=2.9.1->stable-baselines3[extra]) (3.0.3)\n",
            "Requirement already satisfied: moviepy in /usr/local/lib/python3.12/dist-packages (1.0.3)\n",
            "Requirement already satisfied: decorator<5.0,>=4.0.2 in /usr/local/lib/python3.12/dist-packages (from moviepy) (4.4.2)\n",
            "Requirement already satisfied: tqdm<5.0,>=4.11.2 in /usr/local/lib/python3.12/dist-packages (from moviepy) (4.67.1)\n",
            "Requirement already satisfied: requests<3.0,>=2.8.1 in /usr/local/lib/python3.12/dist-packages (from moviepy) (2.32.4)\n",
            "Requirement already satisfied: proglog<=1.0.0 in /usr/local/lib/python3.12/dist-packages (from moviepy) (0.1.12)\n",
            "Requirement already satisfied: numpy>=1.17.3 in /usr/local/lib/python3.12/dist-packages (from moviepy) (2.0.2)\n",
            "Requirement already satisfied: imageio<3.0,>=2.5 in /usr/local/lib/python3.12/dist-packages (from moviepy) (2.37.0)\n",
            "Requirement already satisfied: imageio-ffmpeg>=0.2.0 in /usr/local/lib/python3.12/dist-packages (from moviepy) (0.6.0)\n",
            "Requirement already satisfied: pillow>=8.3.2 in /usr/local/lib/python3.12/dist-packages (from imageio<3.0,>=2.5->moviepy) (11.3.0)\n",
            "Requirement already satisfied: charset_normalizer<4,>=2 in /usr/local/lib/python3.12/dist-packages (from requests<3.0,>=2.8.1->moviepy) (3.4.3)\n",
            "Requirement already satisfied: idna<4,>=2.5 in /usr/local/lib/python3.12/dist-packages (from requests<3.0,>=2.8.1->moviepy) (3.10)\n",
            "Requirement already satisfied: urllib3<3,>=1.21.1 in /usr/local/lib/python3.12/dist-packages (from requests<3.0,>=2.8.1->moviepy) (2.5.0)\n",
            "Requirement already satisfied: certifi>=2017.4.17 in /usr/local/lib/python3.12/dist-packages (from requests<3.0,>=2.8.1->moviepy) (2025.10.5)\n",
            "Hit:1 https://cli.github.com/packages stable InRelease\n",
            "Hit:2 https://developer.download.nvidia.com/compute/cuda/repos/ubuntu2204/x86_64  InRelease\n",
            "Hit:3 https://cloud.r-project.org/bin/linux/ubuntu jammy-cran40/ InRelease\n",
            "Hit:4 http://security.ubuntu.com/ubuntu jammy-security InRelease\n",
            "Hit:5 http://archive.ubuntu.com/ubuntu jammy InRelease\n",
            "Hit:6 http://archive.ubuntu.com/ubuntu jammy-updates InRelease\n",
            "Hit:7 http://archive.ubuntu.com/ubuntu jammy-backports InRelease\n",
            "Hit:8 https://ppa.launchpadcontent.net/deadsnakes/ppa/ubuntu jammy InRelease\n",
            "Hit:9 https://r2u.stat.illinois.edu/ubuntu jammy InRelease\n",
            "Hit:10 https://ppa.launchpadcontent.net/graphics-drivers/ppa/ubuntu jammy InRelease\n",
            "Hit:11 https://ppa.launchpadcontent.net/ubuntugis/ppa/ubuntu jammy InRelease\n",
            "Reading package lists... Done\n",
            "W: Skipping acquire of configured file 'main/source/Sources' as repository 'https://r2u.stat.illinois.edu/ubuntu jammy InRelease' does not seem to provide it (sources.list entry misspelt?)\n",
            "Reading package lists... Done\n",
            "Building dependency tree... Done\n",
            "Reading state information... Done\n",
            "freeglut3-dev is already the newest version (2.8.1-6).\n",
            "ffmpeg is already the newest version (7:4.4.2-0ubuntu0.22.04.1).\n",
            "xvfb is already the newest version (2:21.1.4-2ubuntu1.7~22.04.15).\n",
            "0 upgraded, 0 newly installed, 0 to remove and 40 not upgraded.\n"
          ]
        }
      ],
      "source": [
        "!pip install gymnasium\n",
        "!pip install \"stable-baselines3[extra]\"\n",
        "!pip install moviepy\n",
        "!sudo apt-get update\n",
        "!apt-get install -y xvfb ffmpeg freeglut3-dev"
      ]
    },
    {
      "cell_type": "markdown",
      "source": [
        "Import libraries"
      ],
      "metadata": {
        "id": "k4906Wkl0m2A"
      },
      "id": "k4906Wkl0m2A"
    },
    {
      "cell_type": "code",
      "source": [
        "# Import necessary libraries and modules\n",
        "import os\n",
        "import gymnasium as gym\n",
        "import stable_baselines3\n",
        "from stable_baselines3 import DQN\n",
        "from stable_baselines3.common.monitor import Monitor\n",
        "from stable_baselines3.common.callbacks import BaseCallback\n",
        "from stable_baselines3.common.results_plotter import load_results, ts2xy\n",
        "from stable_baselines3.common.vec_env import VecVideoRecorder, DummyVecEnv\n",
        "import matplotlib.pyplot as plt\n",
        "import numpy as np\n",
        "from pathlib import Path\n",
        "import base64\n",
        "from IPython import display as ipythondisplay\n",
        "import torch\n",
        "\n",
        "print(f\"{gym.__version__=}\")\n",
        "print(f\"{stable_baselines3.__version__=}\")"
      ],
      "metadata": {
        "id": "gt4QB3EJ0DZv",
        "outputId": "9ab4e504-feb3-4473-f75d-f5a2c32fc493",
        "colab": {
          "base_uri": "https://localhost:8080/"
        }
      },
      "id": "gt4QB3EJ0DZv",
      "execution_count": 12,
      "outputs": [
        {
          "output_type": "stream",
          "name": "stdout",
          "text": [
            "gym.__version__='1.2.1'\n",
            "stable_baselines3.__version__='2.7.0'\n"
          ]
        }
      ]
    },
    {
      "cell_type": "markdown",
      "source": [
        "Configure Environment"
      ],
      "metadata": {
        "id": "ujhy06jX19Px"
      },
      "id": "ujhy06jX19Px"
    },
    {
      "cell_type": "code",
      "source": [
        "# Set up a fake display for rendering videos in the cloud environment\n",
        "os.system(\"Xvfb :1 -screen 0 1024x768x24 &\")\n",
        "os.environ['DISPLAY'] = ':1'"
      ],
      "metadata": {
        "id": "Q-sGfn6w1c17"
      },
      "id": "Q-sGfn6w1c17",
      "execution_count": 5,
      "outputs": []
    },
    {
      "cell_type": "markdown",
      "source": [
        "## Callbacks and directory setup"
      ],
      "metadata": {
        "id": "5KR5a9G82FAK"
      },
      "id": "5KR5a9G82FAK"
    },
    {
      "cell_type": "code",
      "source": [
        "# Callback for saving the model at regular intervals\n",
        "class SaveOnIntervalCallback(BaseCallback):\n",
        "    def __init__(self, save_interval: int, save_path: str, verbose=1):\n",
        "        super().__init__(verbose)\n",
        "        self.save_interval = save_interval\n",
        "        self.save_path = save_path\n",
        "\n",
        "    def _on_step(self) -> bool:\n",
        "        if self.num_timesteps % self.save_interval == 0:\n",
        "            save_file = os.path.join(self.save_path, f'model_{self.num_timesteps}')\n",
        "            self.model.save(save_file)\n",
        "            if self.verbose > 0:\n",
        "                print(f'Saving model to {save_file}.zip')\n",
        "        return True"
      ],
      "metadata": {
        "id": "gZaoiF_62Py6"
      },
      "id": "gZaoiF_62Py6",
      "execution_count": 6,
      "outputs": []
    },
    {
      "cell_type": "code",
      "source": [
        "# Creating directories for storing logs and models\n",
        "if IN_COLAB:\n",
        "    log_dir = \"/content/RLA2/cartpole/dqn/logs/\"\n",
        "    models_dir = \"/content/RLA2/cartpole/dqn/models/\"\n",
        "    videos_dir = \"/content/RLA2/cartpole/dqn/videos/\"\n",
        "else:\n",
        "    log_dir = \"dqn/logs/\"\n",
        "    models_dir = \"dqn/models/\"\n",
        "    videos_dir = \"dqn/videos\"\n",
        "\n",
        "os.makedirs(log_dir, exist_ok=True)\n",
        "os.makedirs(models_dir, exist_ok=True)\n",
        "os.makedirs(videos_dir, exist_ok=True)"
      ],
      "metadata": {
        "id": "8Dicc4QS2Rhz"
      },
      "id": "8Dicc4QS2Rhz",
      "execution_count": 9,
      "outputs": []
    },
    {
      "cell_type": "markdown",
      "source": [
        "## Cart pole environment"
      ],
      "metadata": {
        "id": "oRVntuhs8AJb"
      },
      "id": "oRVntuhs8AJb"
    },
    {
      "cell_type": "code",
      "source": [
        "env_id = \"CartPole-v1\"\n",
        "def make_env():\n",
        "    env = gym.make(env_id)\n",
        "    env = Monitor(env, log_dir)\n",
        "    return env\n",
        "\n",
        "env = DummyVecEnv([make_env])"
      ],
      "metadata": {
        "id": "_bX1gjzu8BxM"
      },
      "id": "_bX1gjzu8BxM",
      "execution_count": 11,
      "outputs": []
    },
    {
      "cell_type": "markdown",
      "source": [
        "## DQN Model"
      ],
      "metadata": {
        "id": "8fnTjICh73wk"
      },
      "id": "8fnTjICh73wk"
    },
    {
      "cell_type": "code",
      "source": [
        "# We are defining a network with two hidden layers of 64 neurons each.\n",
        "policy_kwargs = dict(net_arch=[256, 256], activation_fn=torch.nn.ReLU)\n",
        "\n",
        "# Use MlpPolicy and CartPole-specific hyperparameters\n",
        "model = DQN(\n",
        "    \"MlpPolicy\",\n",
        "    verbose=1,\n",
        "    env=env,\n",
        "    learning_rate=1e-4,               # Smaller LR = more stable updates\n",
        "    buffer_size=100_000,             # Large replay buffer for stability\n",
        "    learning_starts=10_000,          # Start training after collecting good variety\n",
        "    batch_size=64,                   # Typical for small state spaces\n",
        "    tau=1.0,                         # Hard update for target network (DQN standard)\n",
        "    gamma=0.99,                      # CartPole reward discount\n",
        "    train_freq=4,                    # Learn every 4 steps\n",
        "    gradient_steps=1,                # One gradient step per training iteration\n",
        "    target_update_interval=1_000,    # Update target network every 1k steps\n",
        "    exploration_fraction=0.1,        # Fraction of total steps for linear epsilon decay\n",
        "    exploration_final_eps=0.01,      # Final epsilon for greedy policy\n",
        "    max_grad_norm=10,               # Gradient clipping\n",
        "    policy_kwargs=policy_kwargs # Use our custom network\n",
        ")"
      ],
      "metadata": {
        "id": "XADxbpZZ7zQy",
        "outputId": "12f3eebe-ba24-46af-d72e-7bc328b2ad2c",
        "colab": {
          "base_uri": "https://localhost:8080/"
        }
      },
      "id": "XADxbpZZ7zQy",
      "execution_count": 13,
      "outputs": [
        {
          "output_type": "stream",
          "name": "stderr",
          "text": [
            "/usr/local/lib/python3.12/dist-packages/jupyter_client/session.py:203: DeprecationWarning: datetime.datetime.utcnow() is deprecated and scheduled for removal in a future version. Use timezone-aware objects to represent datetimes in UTC: datetime.datetime.now(datetime.UTC).\n",
            "  return datetime.utcnow().replace(tzinfo=utc)\n"
          ]
        }
      ]
    },
    {
      "cell_type": "markdown",
      "source": [
        "## Train the model"
      ],
      "metadata": {
        "id": "KyslZEnP9PGw"
      },
      "id": "KyslZEnP9PGw"
    },
    {
      "cell_type": "code",
      "source": [
        "# Set up the callback for saving models\n",
        "save_interval = 100_000\n",
        "save_callback = SaveOnIntervalCallback(save_interval=save_interval, save_path=models_dir)\n",
        "\n",
        "# ### CHANGE 4: Reduce total timesteps ###\n",
        "total_timesteps = 1_000_000\n",
        "\n",
        "# Train the DQN agent\n",
        "model.learn(total_timesteps=total_timesteps, callback=save_callback)\n",
        "\n",
        "# Save the final trained model\n",
        "final_model_path = os.path.join(models_dir, f'model_{total_timesteps}')\n",
        "model.save(final_model_path)"
      ],
      "metadata": {
        "id": "hKxjckeN7y7-",
        "outputId": "88db7fb0-f439-4ffe-bee3-9745cf4bcc17",
        "colab": {
          "base_uri": "https://localhost:8080/"
        }
      },
      "id": "hKxjckeN7y7-",
      "execution_count": 14,
      "outputs": [
        {
          "output_type": "stream",
          "name": "stdout",
          "text": [
            "Saving model to /content/RLA2/cartpole/dqn/models/model_100000.zip\n",
            "Saving model to /content/RLA2/cartpole/dqn/models/model_200000.zip\n",
            "Saving model to /content/RLA2/cartpole/dqn/models/model_300000.zip\n",
            "Saving model to /content/RLA2/cartpole/dqn/models/model_400000.zip\n",
            "Saving model to /content/RLA2/cartpole/dqn/models/model_500000.zip\n",
            "Saving model to /content/RLA2/cartpole/dqn/models/model_600000.zip\n",
            "Saving model to /content/RLA2/cartpole/dqn/models/model_700000.zip\n",
            "Saving model to /content/RLA2/cartpole/dqn/models/model_800000.zip\n",
            "Saving model to /content/RLA2/cartpole/dqn/models/model_900000.zip\n",
            "Saving model to /content/RLA2/cartpole/dqn/models/model_1000000.zip\n"
          ]
        }
      ]
    },
    {
      "cell_type": "markdown",
      "source": [
        "## Performance evaluation"
      ],
      "metadata": {
        "id": "6Gsl4DLV9kSo"
      },
      "id": "6Gsl4DLV9kSo"
    },
    {
      "cell_type": "code",
      "source": [
        "def plot_results(log_folder: str):\n",
        "    \"\"\"\n",
        "    Plots the training curve from the Monitor log file.\n",
        "    :param log_folder: the save directory of the Monitor logs\n",
        "    \"\"\"\n",
        "    x, y = ts2xy(load_results(log_folder), 'timesteps')\n",
        "\n",
        "    # Smooth the curve\n",
        "    y_smooth = np.convolve(y, np.ones(100)/100, mode='valid')\n",
        "    x_smooth = x[len(x) - len(y_smooth):]\n",
        "\n",
        "    fig = plt.figure(\"Training Curve\")\n",
        "    plt.plot(x_smooth, y_smooth, label=\"Smoothed Reward\")\n",
        "    plt.plot(x, y, alpha=0.2, label=\"Raw Reward\")\n",
        "    plt.xlabel(\"Number of Timesteps\")\n",
        "    plt.ylabel(\"Rewards\")\n",
        "    plt.title(\"Training Curve\")\n",
        "    plt.legend()\n",
        "    plt.show()\n",
        "\n",
        "# Call the function after training to see the learning curve\n",
        "plot_results(log_dir)"
      ],
      "metadata": {
        "id": "EqbUkkeP9kkT",
        "outputId": "a0914c6b-3846-4d17-9c70-fe65b1966552",
        "colab": {
          "base_uri": "https://localhost:8080/",
          "height": 527
        }
      },
      "id": "EqbUkkeP9kkT",
      "execution_count": 15,
      "outputs": [
        {
          "output_type": "display_data",
          "data": {
            "text/plain": [
              "<Figure size 640x480 with 1 Axes>"
            ],
            "image/png": "[encoded data removed]"
          },
          "metadata": {}
        },
        {
          "output_type": "stream",
          "name": "stderr",
          "text": [
            "/usr/local/lib/python3.12/dist-packages/jupyter_client/session.py:203: DeprecationWarning: datetime.datetime.utcnow() is deprecated and scheduled for removal in a future version. Use timezone-aware objects to represent datetimes in UTC: datetime.datetime.now(datetime.UTC).\n",
            "  return datetime.utcnow().replace(tzinfo=utc)\n"
          ]
        }
      ]
    },
    {
      "cell_type": "markdown",
      "source": [
        "## Video Recording and Display Functions"
      ],
      "metadata": {
        "id": "nR-j3h2w9ovI"
      },
      "id": "nR-j3h2w9ovI"
    },
    {
      "cell_type": "code",
      "source": [
        "# Functions to record and show videos of the agent playing\n",
        "\n",
        "def show_videos(video_path=\"\", prefix=\"\"):\n",
        "    html = []\n",
        "    for mp4 in Path(video_path).glob(f\"{prefix}*.mp4\"):\n",
        "        video_b64 = base64.b64encode(mp4.read_bytes())\n",
        "        html.append(\n",
        "            f'''<video alt=\"{mp4.name}\" autoplay loop controls style=\"height: 400px;\">\n",
        "                  <source src=\"data:video/mp4;base64,{video_b64.decode('ascii')}\" type=\"video/mp4\" />\n",
        "             </video>'''\n",
        "        )\n",
        "    ipythondisplay.display(ipythondisplay.HTML(data=\"<br>\".join(html)))\n",
        "\n",
        "# ### MODIFICATION ###: Updated video folder and env_id\n",
        "def record_video(env_id, model, video_length=500, prefix=\"\", video_folder=\"dqn/videos\"):\n",
        "    os.makedirs(video_folder, exist_ok=True)\n",
        "    eval_env = DummyVecEnv([lambda: gym.make(env_id, render_mode=\"rgb_array\")])\n",
        "    eval_env = VecVideoRecorder(\n",
        "        eval_env,\n",
        "        video_folder=video_folder,\n",
        "        record_video_trigger=lambda step: step == 0,\n",
        "        video_length=video_length,\n",
        "        name_prefix=prefix,\n",
        "    )\n",
        "    obs = eval_env.reset()\n",
        "    for _ in range(video_length):\n",
        "        action, _ = model.predict(obs, deterministic=True) # Use deterministic for evaluation\n",
        "        obs, _, _, _ = eval_env.step(action)\n",
        "    eval_env.close()"
      ],
      "metadata": {
        "id": "Mr-w-orn9pBK"
      },
      "id": "Mr-w-orn9pBK",
      "execution_count": 16,
      "outputs": []
    },
    {
      "cell_type": "markdown",
      "source": [
        "## Record and Display Videos at Different Training Stages"
      ],
      "metadata": {
        "id": "VX66eiU79xjx"
      },
      "id": "VX66eiU79xjx"
    },
    {
      "cell_type": "code",
      "source": [
        "# Functions for analyzing the trained models\n",
        "\n",
        "# Function to get the identifiers of saved models\n",
        "def get_model_identifiers(models_dir):\n",
        "    files = os.listdir(models_dir)  # Listing files in the models directory\n",
        "    model_files = [f for f in files if f.startswith('model_')]  # Filtering out model files\n",
        "    identifiers = [f.split('_')[1] for f in model_files]  # Extracting identifiers from file names\n",
        "    return identifiers\n",
        "\n",
        "# Function to find key identifiers (earliest, middle, final)\n",
        "def find_key_identifiers(identifiers):\n",
        "    identifiers.sort()  # Sorting identifiers\n",
        "    earliest = identifiers[0]  # Earliest identifier\n",
        "    final = identifiers[-1]  # Final identifier\n",
        "    middle = identifiers[len(identifiers) // 2]  # Middle identifier\n",
        "    return earliest, middle, final\n",
        "\n",
        "# Function to view videos of the models at different training stages\n",
        "def view(models_dir, video_folder=\"dqn/videos\"):\n",
        "    identifiers = get_model_identifiers(models_dir)  # Getting model identifiers\n",
        "    print(identifiers)\n",
        "    earliest, middle, final = find_key_identifiers(identifiers)  # Finding key identifiers\n",
        "\n",
        "    # Recording and displaying videos at the beginning, middle, and end of training\n",
        "    for stage, identifier in zip([\"beginning\", \"middle\", \"end\"], [earliest, middle, final]):\n",
        "        model_path = os.path.join(models_dir, f'model_{identifier}')  # Forming the model path\n",
        "        model = DQN.load(model_path)  # Loading the model\n",
        "        record_video(\"CartPole-v1\", model, video_length=5000, prefix=f'dqn-cartpole-{stage}', video_folder=video_folder)  # Recording video\n",
        "        show_videos(\"dqn/videos/\", prefix=f'dqn-cartpole-{stage}')  # Showing videos"
      ],
      "metadata": {
        "id": "vIffNKu09zaG"
      },
      "id": "vIffNKu09zaG",
      "execution_count": 17,
      "outputs": []
    },
    {
      "cell_type": "code",
      "source": [
        "view(models_dir=models_dir, video_folder=videos_dir)  # Calling the view function"
      ],
      "metadata": {
        "id": "Rrt4pmrA92gs",
        "outputId": "8a061901-4840-4486-d4d9-8750119abf4a",
        "colab": {
          "base_uri": "https://localhost:8080/",
          "height": 662
        }
      },
      "id": "Rrt4pmrA92gs",
      "execution_count": 18,
      "outputs": [
        {
          "output_type": "stream",
          "name": "stdout",
          "text": [
            "['800000.zip', '500000.zip', '400000.zip', '300000.zip', '700000.zip', '900000.zip', '100000.zip', '1000000.zip', '600000.zip', '200000.zip']\n"
          ]
        },
        {
          "output_type": "stream",
          "name": "stderr",
          "text": [
            "/usr/local/lib/python3.12/dist-packages/pygame/pkgdata.py:25: DeprecationWarning: pkg_resources is deprecated as an API. See https://setuptools.pypa.io/en/latest/pkg_resources.html\n",
            "  from pkg_resources import resource_stream, resource_exists\n",
            "/usr/local/lib/python3.12/dist-packages/pkg_resources/__init__.py:3154: DeprecationWarning: Deprecated call to `pkg_resources.declare_namespace('google')`.\n",
            "Implementing implicit namespace packages (as specified in PEP 420) is preferred to `pkg_resources.declare_namespace`. See https://setuptools.pypa.io/en/latest/references/keywords.html#keyword-namespace-packages\n",
            "  declare_namespace(pkg)\n",
            "/usr/local/lib/python3.12/dist-packages/pkg_resources/__init__.py:3154: DeprecationWarning: Deprecated call to `pkg_resources.declare_namespace('google.cloud')`.\n",
            "Implementing implicit namespace packages (as specified in PEP 420) is preferred to `pkg_resources.declare_namespace`. See https://setuptools.pypa.io/en/latest/references/keywords.html#keyword-namespace-packages\n",
            "  declare_namespace(pkg)\n",
            "/usr/local/lib/python3.12/dist-packages/pkg_resources/__init__.py:3154: DeprecationWarning: Deprecated call to `pkg_resources.declare_namespace('sphinxcontrib')`.\n",
            "Implementing implicit namespace packages (as specified in PEP 420) is preferred to `pkg_resources.declare_namespace`. See https://setuptools.pypa.io/en/latest/references/keywords.html#keyword-namespace-packages\n",
            "  declare_namespace(pkg)\n",
            "/usr/local/lib/python3.12/dist-packages/jupyter_client/session.py:203: DeprecationWarning: datetime.datetime.utcnow() is deprecated and scheduled for removal in a future version. Use timezone-aware objects to represent datetimes in UTC: datetime.datetime.now(datetime.UTC).\n",
            "  return datetime.utcnow().replace(tzinfo=utc)\n"
          ]
        },
        {
          "output_type": "stream",
          "name": "stdout",
          "text": [
            "Saving video to /content/RLA2/cartpole/dqn/videos/dqn-cartpole-beginning-step-0-to-step-5000.mp4\n"
          ]
        },
        {
          "output_type": "stream",
          "name": "stderr",
          "text": [
            "/usr/local/lib/python3.12/dist-packages/moviepy/config_defaults.py:47: SyntaxWarning: invalid escape sequence '\\P'\n",
            "  IMAGEMAGICK_BINARY = r\"C:\\Program Files\\ImageMagick-6.8.8-Q16\\magick.exe\"\n"
          ]
        },
        {
          "output_type": "stream",
          "name": "stdout",
          "text": [
            "Moviepy - Building video /content/RLA2/cartpole/dqn/videos/dqn-cartpole-beginning-step-0-to-step-5000.mp4.\n",
            "Moviepy - Writing video /content/RLA2/cartpole/dqn/videos/dqn-cartpole-beginning-step-0-to-step-5000.mp4\n",
            "\n"
          ]
        },
        {
          "output_type": "stream",
          "name": "stderr",
          "text": [
            "/usr/local/lib/python3.12/dist-packages/jupyter_client/session.py:203: DeprecationWarning: datetime.datetime.utcnow() is deprecated and scheduled for removal in a future version. Use timezone-aware objects to represent datetimes in UTC: datetime.datetime.now(datetime.UTC).\n",
            "  return datetime.utcnow().replace(tzinfo=utc)\n"
          ]
        },
        {
          "output_type": "stream",
          "name": "stdout",
          "text": [
            "Moviepy - Done !\n",
            "Moviepy - video ready /content/RLA2/cartpole/dqn/videos/dqn-cartpole-beginning-step-0-to-step-5000.mp4\n"
          ]
        },
        {
          "output_type": "display_data",
          "data": {
            "text/plain": [
              "<IPython.core.display.HTML object>"
            ],
            "text/html": []
          },
          "metadata": {}
        },
        {
          "output_type": "stream",
          "name": "stdout",
          "text": [
            "Saving video to /content/RLA2/cartpole/dqn/videos/dqn-cartpole-middle-step-0-to-step-5000.mp4\n",
            "Moviepy - Building video /content/RLA2/cartpole/dqn/videos/dqn-cartpole-middle-step-0-to-step-5000.mp4.\n",
            "Moviepy - Writing video /content/RLA2/cartpole/dqn/videos/dqn-cartpole-middle-step-0-to-step-5000.mp4\n",
            "\n"
          ]
        },
        {
          "output_type": "stream",
          "name": "stderr",
          "text": [
            "                                                                 "
          ]
        },
        {
          "output_type": "stream",
          "name": "stdout",
          "text": [
            "Moviepy - Done !\n",
            "Moviepy - video ready /content/RLA2/cartpole/dqn/videos/dqn-cartpole-middle-step-0-to-step-5000.mp4\n"
          ]
        },
        {
          "output_type": "stream",
          "name": "stderr",
          "text": [
            "\r"
          ]
        },
        {
          "output_type": "display_data",
          "data": {
            "text/plain": [
              "<IPython.core.display.HTML object>"
            ],
            "text/html": []
          },
          "metadata": {}
        },
        {
          "output_type": "stream",
          "name": "stdout",
          "text": [
            "Saving video to /content/RLA2/cartpole/dqn/videos/dqn-cartpole-end-step-0-to-step-5000.mp4\n",
            "Moviepy - Building video /content/RLA2/cartpole/dqn/videos/dqn-cartpole-end-step-0-to-step-5000.mp4.\n",
            "Moviepy - Writing video /content/RLA2/cartpole/dqn/videos/dqn-cartpole-end-step-0-to-step-5000.mp4\n",
            "\n"
          ]
        },
        {
          "output_type": "stream",
          "name": "stderr",
          "text": []
        },
        {
          "output_type": "stream",
          "name": "stdout",
          "text": [
            "Moviepy - Done !\n",
            "Moviepy - video ready /content/RLA2/cartpole/dqn/videos/dqn-cartpole-end-step-0-to-step-5000.mp4\n"
          ]
        },
        {
          "output_type": "display_data",
          "data": {
            "text/plain": [
              "<IPython.core.display.HTML object>"
            ],
            "text/html": []
          },
          "metadata": {}
        }
      ]
    }
  ],
  "metadata": {
    "kernelspec": {
      "display_name": "Python 3",
      "name": "python3"
    },
    "language_info": {
      "codemirror_mode": {
        "name": "ipython",
        "version": 2
      },
      "file_extension": ".py",
      "mimetype": "text/x-python",
      "name": "python",
      "nbconvert_exporter": "python",
      "pygments_lexer": "ipython2",
      "version": "2.7.6"
    },
    "colab": {
      "provenance": [],
      "gpuType": "T4",
      "include_colab_link": true
    },
    "accelerator": "GPU"
  },
  "nbformat": 4,
  "nbformat_minor": 5
}